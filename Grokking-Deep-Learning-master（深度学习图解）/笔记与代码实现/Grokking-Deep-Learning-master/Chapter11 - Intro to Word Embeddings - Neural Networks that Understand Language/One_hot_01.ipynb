{
 "cells": [
  {
   "cell_type": "code",
   "execution_count": 1,
   "id": "cb4a17a2",
   "metadata": {},
   "outputs": [
    {
     "name": "stdout",
     "output_type": "stream",
     "text": [
      "Sent Encoding:[1 1 0 1]\n"
     ]
    }
   ],
   "source": [
    "#基于输入数据中可能出现的词汇列表，表示某个输入数据点中对应的词汇是否存在。\n",
    "import numpy as np\n",
    "\n",
    "onehots={}\n",
    "onehots['cat']=np.array([1,0,0,0])\n",
    "onehots['the']=np.array([0,1,0,0])\n",
    "onehots['dog']=np.array([0,0,1,0])\n",
    "onehots['sat']=np.array([0,0,0,1])\n",
    "\n",
    "sentence =['the','cat','sat']\n",
    "\n",
    "x = onehots[sentence[0]]+ \\\n",
    "    onehots[sentence[1]]+ \\\n",
    "    onehots[sentence[2]]\n",
    "\n",
    "print(\"Sent Encoding:\"+str(x))"
   ]
  },
  {
   "cell_type": "code",
   "execution_count": null,
   "id": "eeca328e",
   "metadata": {},
   "outputs": [],
   "source": []
  }
 ],
 "metadata": {
  "kernelspec": {
   "display_name": "Python 3 (ipykernel)",
   "language": "python",
   "name": "python3"
  },
  "language_info": {
   "codemirror_mode": {
    "name": "ipython",
    "version": 3
   },
   "file_extension": ".py",
   "mimetype": "text/x-python",
   "name": "python",
   "nbconvert_exporter": "python",
   "pygments_lexer": "ipython3",
   "version": "3.8.12"
  }
 },
 "nbformat": 4,
 "nbformat_minor": 5
}
