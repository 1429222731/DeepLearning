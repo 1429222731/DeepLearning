{
 "cells": [
  {
   "cell_type": "code",
   "execution_count": 2,
   "id": "ac6e139b",
   "metadata": {},
   "outputs": [
    {
     "name": "stdout",
     "output_type": "stream",
     "text": [
      "Iter:0 Progress:95.99% Training Accuracy:0.8309166666666666%%\n",
      "Iter:1 Progress:95.99% Training Accuracy:0.8655%36486768077%\n",
      "Test Accuracy:0.854\n"
     ]
    }
   ],
   "source": [
    "import sys\n",
    "\n",
    "f = open('F:\\DL\\IMDB\\\\reviews.txt')\n",
    "raw_reviews = f.readlines()\n",
    "f.close()\n",
    "\n",
    "f = open('F:\\DL\\IMDB\\\\labels.txt')\n",
    "raw_labels = f.readlines()\n",
    "f.close()\n",
    "\n",
    "tokens = list(map(lambda x:set(x.split(\" \")),raw_reviews))\n",
    "\n",
    "vocab = set()\n",
    "for sent in tokens:\n",
    "    for word in sent:\n",
    "        if(len(word)>0):\n",
    "            vocab.add(word)\n",
    "vocab = list(vocab)\n",
    "\n",
    "word2index = {}\n",
    "for i,word in enumerate(vocab):\n",
    "    word2index[word]=i\n",
    "\n",
    "input_dataset = list()\n",
    "for sent in tokens:\n",
    "    sent_indices = list()\n",
    "    for word in sent:\n",
    "        try:\n",
    "            sent_indices.append(word2index[word])\n",
    "        except:\n",
    "            \"\"\n",
    "    input_dataset.append(list(set(sent_indices)))\n",
    "\n",
    "target_dataset = list()\n",
    "for label in raw_labels:\n",
    "    if label == 'positive\\n':\n",
    "        target_dataset.append(1)\n",
    "    else:\n",
    "        target_dataset.append(0)\n",
    "        \n",
    "\n",
    "        \n",
    "        \n",
    "import numpy as np\n",
    "np.random.seed(1)\n",
    "\n",
    "def sigmoid(x):\n",
    "    return 1/(1 + np.exp(-x))\n",
    "\n",
    "alpha, iterations = (0.01, 2)\n",
    "hidden_size = 100\n",
    "\n",
    "weights_0_1 = 0.2*np.random.random((len(vocab),hidden_size)) - 0.1\n",
    "weights_1_2 = 0.2*np.random.random((hidden_size,1)) - 0.1\n",
    "\n",
    "correct,total = (0,0)\n",
    "for iter in range(iterations):\n",
    "    \n",
    "    # train on first 24,000（在前24000条电影评论上进行训练）\n",
    "    for i in range(len(input_dataset)-1000):\n",
    "\n",
    "        x,y = (input_dataset[i],target_dataset[i])\n",
    "        layer_1 = sigmoid(np.sum(weights_0_1[x],axis=0)) #embed + sigmoid   嵌入层+sigmoid激活函数\n",
    "        layer_2 = sigmoid(np.dot(layer_1,weights_1_2)) # linear + softmax   线性层+softmax激活函数\n",
    "\n",
    "        layer_2_delta = layer_2 - y # compare pred with truth（将预测结果和真值进行比较）\n",
    "        layer_1_delta = layer_2_delta.dot(weights_1_2.T) #backprop（反向传播）\n",
    "\n",
    "        weights_0_1[x] -= layer_1_delta * alpha\n",
    "        weights_1_2 -= np.outer(layer_1,layer_2_delta) * alpha\n",
    "\n",
    "        if(np.abs(layer_2_delta) < 0.5):\n",
    "            correct += 1\n",
    "        total += 1\n",
    "        if(i % 10 == 9):\n",
    "            progress = str(i/float(len(input_dataset)))\n",
    "            sys.stdout.write('\\rIter:'+str(iter)\\\n",
    "                             +' Progress:'+progress[2:4]\\\n",
    "                             +'.'+progress[4:6]\\\n",
    "                             +'% Training Accuracy:'\\\n",
    "                             + str(correct/float(total)) + '%')\n",
    "    print()\n",
    "correct,total = (0,0)\n",
    "for i in range(len(input_dataset)-1000,len(input_dataset)):\n",
    "\n",
    "    x = input_dataset[i]\n",
    "    y = target_dataset[i]\n",
    "\n",
    "    layer_1 = sigmoid(np.sum(weights_0_1[x],axis=0))\n",
    "    layer_2 = sigmoid(np.dot(layer_1,weights_1_2))\n",
    "    \n",
    "    if(np.abs(layer_2 - y) < 0.5):\n",
    "        correct += 1\n",
    "    total += 1\n",
    "print(\"Test Accuracy:\" + str(correct / float(total)))"
   ]
  },
  {
   "cell_type": "code",
   "execution_count": 6,
   "id": "a45a2235",
   "metadata": {},
   "outputs": [
    {
     "data": {
      "text/plain": [
       "{'',\n",
       " '\\n',\n",
       " '.',\n",
       " 'a',\n",
       " 'about',\n",
       " 'adults',\n",
       " 'age',\n",
       " 'all',\n",
       " 'and',\n",
       " 'as',\n",
       " 'at',\n",
       " 'believe',\n",
       " 'bromwell',\n",
       " 'burn',\n",
       " 'can',\n",
       " 'cartoon',\n",
       " 'classic',\n",
       " 'closer',\n",
       " 'comedy',\n",
       " 'down',\n",
       " 'episode',\n",
       " 'expect',\n",
       " 'far',\n",
       " 'fetched',\n",
       " 'financially',\n",
       " 'here',\n",
       " 'high',\n",
       " 'i',\n",
       " 'immediately',\n",
       " 'in',\n",
       " 'insightful',\n",
       " 'inspector',\n",
       " 'is',\n",
       " 'isn',\n",
       " 'it',\n",
       " 'knew',\n",
       " 'lead',\n",
       " 'life',\n",
       " 'line',\n",
       " 'm',\n",
       " 'many',\n",
       " 'me',\n",
       " 'much',\n",
       " 'my',\n",
       " 'of',\n",
       " 'one',\n",
       " 'other',\n",
       " 'pathetic',\n",
       " 'pettiness',\n",
       " 'pity',\n",
       " 'pomp',\n",
       " 'profession',\n",
       " 'programs',\n",
       " 'ran',\n",
       " 'reality',\n",
       " 'recalled',\n",
       " 'remind',\n",
       " 'repeatedly',\n",
       " 'right',\n",
       " 's',\n",
       " 'sack',\n",
       " 'same',\n",
       " 'satire',\n",
       " 'saw',\n",
       " 'school',\n",
       " 'schools',\n",
       " 'scramble',\n",
       " 'see',\n",
       " 'situation',\n",
       " 'some',\n",
       " 'student',\n",
       " 'students',\n",
       " 'such',\n",
       " 'survive',\n",
       " 't',\n",
       " 'teachers',\n",
       " 'teaching',\n",
       " 'than',\n",
       " 'that',\n",
       " 'the',\n",
       " 'their',\n",
       " 'think',\n",
       " 'through',\n",
       " 'time',\n",
       " 'to',\n",
       " 'tried',\n",
       " 'welcome',\n",
       " 'what',\n",
       " 'when',\n",
       " 'which',\n",
       " 'who',\n",
       " 'whole',\n",
       " 'years',\n",
       " 'your'}"
      ]
     },
     "execution_count": 6,
     "metadata": {},
     "output_type": "execute_result"
    }
   ],
   "source": [
    "tokens[0]"
   ]
  },
  {
   "cell_type": "code",
   "execution_count": 7,
   "id": "2969cc36",
   "metadata": {},
   "outputs": [
    {
     "data": {
      "text/plain": [
       "94"
      ]
     },
     "execution_count": 7,
     "metadata": {},
     "output_type": "execute_result"
    }
   ],
   "source": [
    "len(tokens[0])"
   ]
  },
  {
   "cell_type": "code",
   "execution_count": 3,
   "id": "6597e0a4",
   "metadata": {},
   "outputs": [],
   "source": [
    "from collections import Counter\n",
    "import math \n",
    "\n",
    "def similar(target='beautiful'):\n",
    "    target_index = word2index[target]\n",
    "    scores = Counter()\n",
    "    for word,index in word2index.items():\n",
    "        raw_difference = weights_0_1[index] - (weights_0_1[target_index])\n",
    "        squared_difference = raw_difference * raw_difference\n",
    "        scores[word] = -math.sqrt(sum(squared_difference))\n",
    "\n",
    "    return scores.most_common(10)\n",
    "\n",
    "\n"
   ]
  },
  {
   "cell_type": "code",
   "execution_count": 4,
   "id": "7fa3c79f",
   "metadata": {},
   "outputs": [
    {
     "name": "stdout",
     "output_type": "stream",
     "text": [
      "[('beautiful', -0.0), ('liked', -0.7259811252367809), ('episodes', -0.7290309967452014), ('fantastic', -0.733280638859789), ('each', -0.7369376852405174), ('awesome', -0.744138755209802), ('appreciate', -0.7558663087586555), ('definitely', -0.7595374697012539), ('unexpected', -0.7616395323137153), ('simple', -0.7637285718379527)]\n"
     ]
    }
   ],
   "source": [
    "print(similar('beautiful'))"
   ]
  },
  {
   "cell_type": "code",
   "execution_count": 5,
   "id": "2cb8e45a",
   "metadata": {},
   "outputs": [
    {
     "name": "stdout",
     "output_type": "stream",
     "text": [
      "[('terrible', -0.0), ('worse', -0.7570555094621823), ('mess', -0.7622124324661071), ('boring', -0.7908058323881745), ('laughable', -0.8058549930529031), ('avoid', -0.8077949514853672), ('disappointment', -0.8078155222511667), ('poor', -0.8109702158207468), ('dull', -0.8113694959717213), ('horrible', -0.8168321365960421)]\n"
     ]
    }
   ],
   "source": [
    "print(similar('terrible'))"
   ]
  },
  {
   "cell_type": "code",
   "execution_count": null,
   "id": "b139befd",
   "metadata": {},
   "outputs": [],
   "source": []
  }
 ],
 "metadata": {
  "kernelspec": {
   "display_name": "Python 3 (ipykernel)",
   "language": "python",
   "name": "python3"
  },
  "language_info": {
   "codemirror_mode": {
    "name": "ipython",
    "version": 3
   },
   "file_extension": ".py",
   "mimetype": "text/x-python",
   "name": "python",
   "nbconvert_exporter": "python",
   "pygments_lexer": "ipython3",
   "version": "3.8.12"
  }
 },
 "nbformat": 4,
 "nbformat_minor": 5
}
