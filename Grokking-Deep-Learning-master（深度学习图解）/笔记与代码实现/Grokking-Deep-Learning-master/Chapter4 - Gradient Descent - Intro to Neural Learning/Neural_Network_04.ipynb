{
 "cells": [
  {
   "cell_type": "code",
   "execution_count": 3,
   "id": "27721aa9",
   "metadata": {},
   "outputs": [
    {
     "name": "stdout",
     "output_type": "stream",
     "text": [
      "-----\n",
      "Weight:0.0\n",
      "Error:0.6400000000000001 Prediction:0.0\n",
      "Delta:-0.8 Weight Delta:-0.8800000000000001\n",
      "-----\n",
      "Weight:0.8800000000000001\n",
      "Error:0.02822400000000005 Prediction:0.9680000000000002\n",
      "Delta:0.16800000000000015 Weight Delta:0.1848000000000002\n",
      "-----\n",
      "Weight:0.6951999999999999\n",
      "Error:0.0012446784000000064 Prediction:0.76472\n",
      "Delta:-0.03528000000000009 Weight Delta:-0.0388080000000001\n",
      "-----\n",
      "Weight:0.734008\n",
      "Error:5.4890317439999896e-05 Prediction:0.8074088\n",
      "Delta:0.007408799999999993 Weight Delta:0.008149679999999992\n"
     ]
    }
   ],
   "source": [
    "# 1) An Empty Network\n",
    "\n",
    "weight = 0.1 \n",
    "alpha = 0.01\n",
    "\n",
    "def neural_network(input, weight):\n",
    "    prediction = input * weight\n",
    "    return prediction\n",
    "\n",
    "# 2) PREDICT: Making A Prediction And Evaluating Error\n",
    "\n",
    "number_of_toes = [8.5]\n",
    "win_or_lose_binary = [1] # (won!!!)\n",
    "\n",
    "input = number_of_toes[0]\n",
    "goal_pred = win_or_lose_binary[0]\n",
    "\n",
    "pred = neural_network(input,weight)\n",
    "error = (pred - goal_pred) ** 2\n",
    "\n",
    "# 3) COMPARE: Calculating \"Node Delta\" and Putting it on the Output Node\n",
    "\n",
    "delta = pred - goal_pred\n",
    "\n",
    "# 4) LEARN: Calculating \"Weight Delta\" and Putting it on the Weight\n",
    "\n",
    "weight_delta = input * delta\n",
    "\n",
    "# 5) LEARN: Updating the Weight\n",
    "\n",
    "alpha = 0.01 # fixed before training\n",
    "weight -= weight_delta * alpha\n",
    "\n",
    "# weight, goal_pred, input = (0.0, 0.8, 0.5)\n",
    "\n",
    "# for iteration in range(4):\n",
    "    \n",
    "#     pred = input * weight\n",
    "#     error = (pred - goal_pred) ** 2\n",
    "#     delta = pred - goal_pred\n",
    "#     weight_delta = delta * input\n",
    "#     weight = weight - weight_delta\n",
    "#     print(\"Error:\" + str(error) + \" Prediction:\" + str(pred))\n",
    "\n",
    "\n",
    "weight, goal_pred, input = (0.0, 0.8, 1.1)\n",
    "\n",
    "for iteration in range(4):\n",
    "    print(\"-----\\nWeight:\" + str(weight))\n",
    "    pred = input * weight\n",
    "    error = (pred - goal_pred) ** 2\n",
    "    delta = pred - goal_pred\n",
    "    weight_delta = delta * input\n",
    "    weight = weight - weight_delta\n",
    "    print(\"Error:\" + str(error) + \" Prediction:\" + str(pred))\n",
    "    print(\"Delta:\" + str(delta) + \" Weight Delta:\" + str(weight_delta))"
   ]
  },
  {
   "cell_type": "code",
   "execution_count": null,
   "id": "53ee1db1",
   "metadata": {},
   "outputs": [],
   "source": []
  }
 ],
 "metadata": {
  "kernelspec": {
   "display_name": "Python 3",
   "language": "python",
   "name": "python3"
  },
  "language_info": {
   "codemirror_mode": {
    "name": "ipython",
    "version": 3
   },
   "file_extension": ".py",
   "mimetype": "text/x-python",
   "name": "python",
   "nbconvert_exporter": "python",
   "pygments_lexer": "ipython3",
   "version": "3.8.8"
  }
 },
 "nbformat": 4,
 "nbformat_minor": 5
}
