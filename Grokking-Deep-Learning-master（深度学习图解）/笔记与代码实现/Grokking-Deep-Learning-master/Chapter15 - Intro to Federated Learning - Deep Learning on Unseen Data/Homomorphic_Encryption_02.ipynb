{
 "cells": [
  {
   "cell_type": "code",
   "execution_count": 3,
   "id": "04a56647",
   "metadata": {},
   "outputs": [
    {
     "name": "stdout",
     "output_type": "stream",
     "text": [
      "The Answer: 8\n"
     ]
    }
   ],
   "source": [
    "#pip install phe\n",
    "import phe\n",
    "\n",
    "public_key, private_key = phe.generate_paillier_keypair(n_length=1024)\n",
    "\n",
    "# encrypt the number \"5\"\n",
    "x = public_key.encrypt(5)\n",
    "\n",
    "# encrypt the number \"3\"\n",
    "y = public_key.encrypt(3)\n",
    "\n",
    "# add the two encrypted values\n",
    "z = x + y\n",
    "\n",
    "# decrypt the result\n",
    "z_ = private_key.decrypt(z)\n",
    "print(\"The Answer: \" + str(z_))"
   ]
  },
  {
   "cell_type": "code",
   "execution_count": null,
   "id": "7c2ee309",
   "metadata": {},
   "outputs": [],
   "source": []
  }
 ],
 "metadata": {
  "kernelspec": {
   "display_name": "Python 3 (ipykernel)",
   "language": "python",
   "name": "python3"
  },
  "language_info": {
   "codemirror_mode": {
    "name": "ipython",
    "version": 3
   },
   "file_extension": ".py",
   "mimetype": "text/x-python",
   "name": "python",
   "nbconvert_exporter": "python",
   "pygments_lexer": "ipython3",
   "version": "3.8.12"
  }
 },
 "nbformat": 4,
 "nbformat_minor": 5
}
