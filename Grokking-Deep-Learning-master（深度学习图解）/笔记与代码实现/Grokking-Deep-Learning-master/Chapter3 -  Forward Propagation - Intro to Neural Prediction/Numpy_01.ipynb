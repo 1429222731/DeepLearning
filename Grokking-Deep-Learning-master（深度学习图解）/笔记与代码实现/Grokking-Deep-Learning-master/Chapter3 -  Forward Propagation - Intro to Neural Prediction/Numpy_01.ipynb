{
 "cells": [
  {
   "cell_type": "code",
   "execution_count": 4,
   "id": "e3c46c3c",
   "metadata": {},
   "outputs": [
    {
     "name": "stdout",
     "output_type": "stream",
     "text": [
      "[0 1 2 3]\n",
      "\n",
      "[4 5 6 7]\n",
      "\n",
      "[[0 1 2 3]\n",
      " [4 5 6 7]]\n",
      "\n",
      "[[0. 0. 0. 0.]\n",
      " [0. 0. 0. 0.]]\n",
      "\n",
      "[[0.57098209 0.13800791 0.7065916  0.77809562 0.8438687 ]\n",
      " [0.8953357  0.66488207 0.00939334 0.10181642 0.09276199]]\n"
     ]
    }
   ],
   "source": [
    "import numpy as np\n",
    "a=np.array([0,1,2,3]) #一个向量\n",
    "b=np.array([4,5,6,7]) #另一个向量\n",
    "c=np.array([[0,1,2,3],#一个矩阵\n",
    "           [4,5,6,7]])\n",
    "\n",
    "d=np.zeros((2,4))     #2*4的全零矩阵\n",
    "e=np.random.rand(2,5) #2*5的随机矩阵，元素的值在0到1之间\n",
    "\n",
    "print(a)\n",
    "print()\n",
    "\n",
    "print(b)\n",
    "print()\n",
    "\n",
    "print(c)\n",
    "print()\n",
    "\n",
    "print(d)\n",
    "print()\n",
    "\n",
    "print(e)"
   ]
  },
  {
   "cell_type": "code",
   "execution_count": null,
   "id": "cb9478e7",
   "metadata": {},
   "outputs": [],
   "source": []
  }
 ],
 "metadata": {
  "kernelspec": {
   "display_name": "Python 3",
   "language": "python",
   "name": "python3"
  },
  "language_info": {
   "codemirror_mode": {
    "name": "ipython",
    "version": 3
   },
   "file_extension": ".py",
   "mimetype": "text/x-python",
   "name": "python",
   "nbconvert_exporter": "python",
   "pygments_lexer": "ipython3",
   "version": "3.8.8"
  }
 },
 "nbformat": 4,
 "nbformat_minor": 5
}
