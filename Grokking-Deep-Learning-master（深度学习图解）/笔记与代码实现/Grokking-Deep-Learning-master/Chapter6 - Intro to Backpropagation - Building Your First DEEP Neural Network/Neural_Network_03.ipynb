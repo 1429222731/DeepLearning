{
 "cells": [
  {
   "cell_type": "code",
   "execution_count": 8,
   "id": "20fefad8",
   "metadata": {},
   "outputs": [
    {
     "name": "stdout",
     "output_type": "stream",
     "text": [
      "Error:0.6342311598444467\n",
      "Error:0.35838407676317513\n",
      "Error:0.0830183113303298\n",
      "Error:0.006467054957103705\n",
      "Error:0.0003292669000750734\n",
      "Error:1.5055622665134859e-05\n"
     ]
    }
   ],
   "source": [
    "import numpy as np\n",
    "\n",
    "np.random.seed(1)#设置随机数生成时的整数值\n",
    "\n",
    "#当x>0时，返回x；在其他条件下，返回0\n",
    "def relu(x):\n",
    "    return (x>0)*x\n",
    "\n",
    "#当input输入大于0时，返回1；在其他条件下,返回0\n",
    "def relu2deriv(output):\n",
    "    return output>0\n",
    "\n",
    "alpha=0.2\n",
    "hidden_size=4  #中间层节点个数\n",
    "\n",
    "streetlights = np.array( [ [ 1, 0, 1 ],\n",
    "                           [ 0, 1, 1 ],\n",
    "                           [ 0, 0, 1 ],\n",
    "                           [ 1, 1, 1 ] ] )\n",
    "\n",
    "walk_vs_stop = np.array( [[ 1, 1, 0, 0 ]] ).T #转置为列\n",
    "\n",
    "weights_0_1=2*np.random.random((3,hidden_size))-1  #3行4列\n",
    "weights_1_2=2*np.random.random((hidden_size,1))-1  #4行1列\n",
    "\n",
    "for iteration in range(60):\n",
    "    layer_2_error=0\n",
    "    for i in range(len(streetlights)):\n",
    "        layer_0=streetlights[i:i+1]   #streetlights[i:i+1]  结果为[[1 0 1]]   [[0 1 1]]   [[0 0 1]]  [[1 1 1]]\n",
    "        layer_1=relu(np.dot(layer_0,weights_0_1))\n",
    "        layer_2=np.dot(layer_1,weights_1_2)\n",
    "        \n",
    "        layer_2_error+=np.sum((layer_2-walk_vs_stop[i:i+1])**2)\n",
    "        \n",
    "        layer_2_delta=(walk_vs_stop[i:i+1]-layer_2)\n",
    "        layer_1_delta=layer_2_delta.dot(weights_1_2.T)*relu2deriv(layer_1)\n",
    "        #从这里可以看出反向传播能够计算中间层的增量。对layer_1取layer_2增量的加权平均值（用它们之间的权重计算得出）。然后关闭不参与前向预测的节点（将它们设置为0），因为它们对误差没有贡献\n",
    "        \n",
    "        weights_1_2 += alpha * layer_1.T.dot(layer_2_delta)\n",
    "        weights_0_1 += alpha * layer_0.T.dot(layer_1_delta)\n",
    "    \n",
    "    if(iteration%10==9):\n",
    "        print(\"Error:\"+str(layer_2_error))"
   ]
  },
  {
   "cell_type": "code",
   "execution_count": null,
   "id": "58ba0f43",
   "metadata": {},
   "outputs": [],
   "source": []
  }
 ],
 "metadata": {
  "kernelspec": {
   "display_name": "Python 3",
   "language": "python",
   "name": "python3"
  },
  "language_info": {
   "codemirror_mode": {
    "name": "ipython",
    "version": 3
   },
   "file_extension": ".py",
   "mimetype": "text/x-python",
   "name": "python",
   "nbconvert_exporter": "python",
   "pygments_lexer": "ipython3",
   "version": "3.8.8"
  }
 },
 "nbformat": 4,
 "nbformat_minor": 5
}
