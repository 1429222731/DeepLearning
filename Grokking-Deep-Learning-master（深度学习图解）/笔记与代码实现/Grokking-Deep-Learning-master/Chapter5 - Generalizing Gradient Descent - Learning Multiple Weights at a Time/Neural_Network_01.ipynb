{
 "cells": [
  {
   "cell_type": "code",
   "execution_count": 1,
   "id": "1a1040d1",
   "metadata": {},
   "outputs": [
    {
     "name": "stdout",
     "output_type": "stream",
     "text": [
      "Iteration:1\n",
      "Pred:0.8600000000000001\n",
      "Error:0.01959999999999997\n",
      "Delta:-0.1399999999999999\n",
      "Weights:[0.1, 0.2, -0.1]\n",
      "Weight_Deltas:\n",
      "[-1.189999999999999, -0.09099999999999994, -0.16799999999999987]\n",
      "\n",
      "Iteration:2\n",
      "Pred:1.8975749999999993\n",
      "Error:0.8056408806249988\n",
      "Delta:0.8975749999999993\n",
      "Weights:[0.21899999999999992, 0.2091, -0.08320000000000002]\n",
      "Weight_Deltas:\n",
      "[7.629387499999995, 0.5834237499999996, 1.0770899999999992]\n",
      "\n",
      "Iteration:3\n",
      "Pred:-4.754577718749997\n",
      "Error:33.115164721133915\n",
      "Delta:-5.754577718749997\n",
      "Weights:[-0.5439387499999997, 0.15075762500000006, -0.19090899999999994]\n",
      "Weight_Deltas:\n",
      "[-48.91391060937497, -3.740475517187498, -6.905493262499996]\n",
      "\n"
     ]
    }
   ],
   "source": [
    "def neural_network(input,weights):\n",
    "    out=0\n",
    "    for i in range(len(input)):\n",
    "        out+=(input[i]*weights[i])\n",
    "    return out\n",
    "\n",
    "def ele_mul(scalar,vector):\n",
    "    out=[0,0,0]\n",
    "    for i in range(len(out)):\n",
    "        out[i]=vector[i]*scalar\n",
    "    return out\n",
    "\n",
    "toes=[8.5,9.5,9.9,9.0]\n",
    "wlrec=[0.65,0.8,0.8,0.9]\n",
    "nfans=[1.2,1.3,0.5,1.0]\n",
    "\n",
    "win_or_lose_binary=[1,1,0,1]\n",
    "true=win_or_lose_binary[0]\n",
    "\n",
    "alpha=0.1\n",
    "weights=[0.1,0.2,-0.1]\n",
    "input=[toes[0],wlrec[0],nfans[0]]\n",
    "\n",
    "for iter in range(3):\n",
    "    pred=neural_network(input,weights)\n",
    "    \n",
    "    error=(pred-true)**2\n",
    "    delta=pred-true\n",
    "    \n",
    "    weight_deltas=ele_mul(delta,input)\n",
    "    \n",
    "    print(\"Iteration:\"+str(iter+1))\n",
    "    print(\"Pred:\"+str(pred))\n",
    "    print(\"Error:\"+str(error))\n",
    "    print(\"Delta:\"+str(delta))\n",
    "    print(\"Weights:\"+str(weights))\n",
    "    print(\"Weight_Deltas:\")\n",
    "    print(str(weight_deltas))\n",
    "    print()\n",
    "    for i in range(len(weights)):\n",
    "        weights[i]-=alpha*weight_deltas[i]\n",
    "        "
   ]
  },
  {
   "cell_type": "code",
   "execution_count": null,
   "id": "c97efee8",
   "metadata": {},
   "outputs": [],
   "source": []
  }
 ],
 "metadata": {
  "kernelspec": {
   "display_name": "Python 3",
   "language": "python",
   "name": "python3"
  },
  "language_info": {
   "codemirror_mode": {
    "name": "ipython",
    "version": 3
   },
   "file_extension": ".py",
   "mimetype": "text/x-python",
   "name": "python",
   "nbconvert_exporter": "python",
   "pygments_lexer": "ipython3",
   "version": "3.8.8"
  }
 },
 "nbformat": 4,
 "nbformat_minor": 5
}
