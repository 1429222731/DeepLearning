{
 "cells": [
  {
   "cell_type": "code",
   "execution_count": 37,
   "id": "7e648a60",
   "metadata": {},
   "outputs": [
    {
     "name": "stdout",
     "output_type": "stream",
     "text": [
      "Weights:[[0.061325, 0.1017, -0.373525], [0.0970425, 0.20013, -0.005622500000000002], [-0.0054600000000000004, 1.30024, 0.08962]]\n",
      "Weight_deltas:[[ 3.8675  -0.17     7.3525 ]\n",
      " [ 0.29575 -0.013    0.56225]\n",
      " [ 0.546   -0.024    1.038  ]]\n"
     ]
    }
   ],
   "source": [
    "import numpy as np\n",
    "            #toes %win #fans\n",
    "weights = [ [0.1, 0.1, -0.3],#hurt?\n",
    "            [0.1, 0.2, 0.0], #win?\n",
    "            [0.0, 1.3, 0.1] ]#sad?\n",
    "\n",
    "def w_sum(a,b):\n",
    "    assert(len(a) == len(b))\n",
    "    output = 0\n",
    "    for i in range(len(a)):\n",
    "        output += (a[i] * b[i])\n",
    "    return output\n",
    "\n",
    "\n",
    "#注意：\n",
    "            #toes %win #fans\n",
    "#weights = [ [0.1, 0.1, -0.3],#hurt?\n",
    "#            [0.1, 0.2, 0.0], #win?\n",
    "#            [0.0, 1.3, 0.1],#sad?\n",
    "#            [1,2,3]]\n",
    "#1.print(len(weights))------>4    表示矩阵的行数\n",
    "#2. for i in range(len(weights)):\n",
    "#       print(weights[i])    表示每一个行向量\n",
    "#结果：[0.1, 0.1, -0.3]\n",
    "#      [0.1, 0.2, 0.0]\n",
    "#      [0.0, 1.3, 0.1]\n",
    "#      [1, 2, 3]      \n",
    "def vect_mat_mul(vect,matrix):\n",
    "    assert(len(vect) == len(matrix))\n",
    "    output = [0,0,0]\n",
    "    for i in range(len(vect)):\n",
    "        output[i] = w_sum(vect,matrix[i])\n",
    "    return output\n",
    "\n",
    "def neural_network(input, weights):\n",
    "    pred = vect_mat_mul(input,weights)\n",
    "    return pred\n",
    "\n",
    "toes  = [8.5, 9.5, 9.9, 9.0]\n",
    "wlrec = [0.65,0.8, 0.8, 0.9]\n",
    "nfans = [1.2, 1.3, 0.5, 1.0]\n",
    "\n",
    "hurt  = [0.1, 0.0, 0.0, 0.1]\n",
    "win   = [  1,   1,   0,   1]\n",
    "sad   = [0.1, 0.0, 0.1, 0.2]\n",
    "\n",
    "alpha = 0.01\n",
    "\n",
    "input = [toes[0],wlrec[0],nfans[0]]\n",
    "true  = [hurt[0], win[0], sad[0]]\n",
    "\n",
    "pred = neural_network(input,weights)\n",
    "\n",
    "error = [0, 0, 0] \n",
    "delta = [0, 0, 0]\n",
    "\n",
    "for i in range(len(true)):\n",
    "    error[i] = (pred[i] - true[i]) ** 2\n",
    "    delta[i] = pred[i] - true[i]\n",
    "\n",
    "def outer_prod(vec_a,vec_b):\n",
    "    out = np.zeros((len(vec_a),len(vec_b)))\n",
    "    for i in range(len(vec_a)):\n",
    "        for j in range(len(vec_b)): \n",
    "            out[i][j]=vec_a[i]*vec_b[j]\n",
    "    return out\n",
    "\n",
    "weight_deltas = outer_prod(input,delta)\n",
    "\n",
    "for i in range(len(weights)):\n",
    "    for j in range(len(weights[0])):\n",
    "        weights[i][j] -= alpha * weight_deltas[i][j]\n",
    "        \n",
    "        \n",
    "print(\"Weights:\"+str(weights))\n",
    "print(\"Weight_deltas:\"+str(weight_deltas))"
   ]
  },
  {
   "cell_type": "code",
   "execution_count": null,
   "id": "db04cf3e",
   "metadata": {},
   "outputs": [],
   "source": []
  }
 ],
 "metadata": {
  "kernelspec": {
   "display_name": "Python 3",
   "language": "python",
   "name": "python3"
  },
  "language_info": {
   "codemirror_mode": {
    "name": "ipython",
    "version": 3
   },
   "file_extension": ".py",
   "mimetype": "text/x-python",
   "name": "python",
   "nbconvert_exporter": "python",
   "pygments_lexer": "ipython3",
   "version": "3.8.8"
  }
 },
 "nbformat": 4,
 "nbformat_minor": 5
}
